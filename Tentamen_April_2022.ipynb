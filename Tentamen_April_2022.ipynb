{
 "cells": [
  {
   "cell_type": "markdown",
   "id": "9f1eb012",
   "metadata": {},
   "source": [
    "# Tentamen - 13 april 2021"
   ]
  },
  {
   "cell_type": "markdown",
   "id": "a30ba443",
   "metadata": {},
   "source": [
    "**Naam:**"
   ]
  },
  {
   "cell_type": "code",
   "execution_count": null,
   "id": "ac080179",
   "metadata": {},
   "outputs": [],
   "source": []
  },
  {
   "cell_type": "markdown",
   "id": "93b88224",
   "metadata": {},
   "source": [
    "**Studentnummer:**"
   ]
  },
  {
   "cell_type": "code",
   "execution_count": 10,
   "id": "e33febf7",
   "metadata": {},
   "outputs": [],
   "source": [
    "###Packages inladen\n",
    "import pandas as pd\n",
    "import numpy as np\n",
    "import matplotlib.pyplot as plt"
   ]
  },
  {
   "cell_type": "markdown",
   "id": "b3fbff42",
   "metadata": {},
   "source": [
    "**1. Theorie**"
   ]
  },
  {
   "cell_type": "markdown",
   "id": "82cc6d0d",
   "metadata": {},
   "source": [
    "a. Welk data type krijg je terug als je twee waardes vergelijkt met een logische operator? (2pt) <br> \n",
    "   Geef een voorbeeld van een vergelijking met een logische operator (3pt)"
   ]
  },
  {
   "cell_type": "code",
   "execution_count": 3,
   "id": "e2e9647b",
   "metadata": {},
   "outputs": [
    {
     "data": {
      "text/plain": [
       "bool"
      ]
     },
     "execution_count": 3,
     "metadata": {},
     "output_type": "execute_result"
    }
   ],
   "source": [
    "#boolean\n",
    "type(4>5)"
   ]
  },
  {
   "cell_type": "markdown",
   "id": "0a7634c0",
   "metadata": {},
   "source": [
    "b. Geef een voorbeeld van een python list (2pt) met drie verschillende data types (3pt)"
   ]
  },
  {
   "cell_type": "code",
   "execution_count": 9,
   "id": "6a3b9fed",
   "metadata": {},
   "outputs": [
    {
     "data": {
      "text/plain": [
       "list"
      ]
     },
     "execution_count": 9,
     "metadata": {},
     "output_type": "execute_result"
    }
   ],
   "source": [
    "type(['a', 1, True])\n"
   ]
  },
  {
   "cell_type": "markdown",
   "id": "ba5eb5e0",
   "metadata": {},
   "source": [
    "**2. De verschrikkelijke oorlog in Oekraïne is ook in cijfers uit te drukken. Aan de hand van cijfers van het Oekraïnse leger gaan we het verloop van de oorlog bekijken. De datasets geven het cumulatieve aantal slachtoffers/vernietigde aantal voertuigen**"
   ]
  },
  {
   "cell_type": "markdown",
   "id": "aa52456b",
   "metadata": {},
   "source": [
    "a. Lees de bestanden Oorlog_personeel.csv en Oorlog_voertuigen.xlsx in. Zorg dat ze hetzelfde format krijgen als de gegeven pickle bestanden (2pt)"
   ]
  },
  {
   "cell_type": "code",
   "execution_count": 14,
   "id": "ad83a437",
   "metadata": {},
   "outputs": [
    {
     "data": {
      "text/html": [
       "<div>\n",
       "<style scoped>\n",
       "    .dataframe tbody tr th:only-of-type {\n",
       "        vertical-align: middle;\n",
       "    }\n",
       "\n",
       "    .dataframe tbody tr th {\n",
       "        vertical-align: top;\n",
       "    }\n",
       "\n",
       "    .dataframe thead th {\n",
       "        text-align: right;\n",
       "    }\n",
       "</style>\n",
       "<table border=\"1\" class=\"dataframe\">\n",
       "  <thead>\n",
       "    <tr style=\"text-align: right;\">\n",
       "      <th></th>\n",
       "      <th>date</th>\n",
       "      <th>day</th>\n",
       "      <th>personnel</th>\n",
       "      <th>personnel*</th>\n",
       "      <th>POW</th>\n",
       "    </tr>\n",
       "  </thead>\n",
       "  <tbody>\n",
       "    <tr>\n",
       "      <th>0</th>\n",
       "      <td>2022-02-25</td>\n",
       "      <td>2</td>\n",
       "      <td>2800</td>\n",
       "      <td>about</td>\n",
       "      <td>0</td>\n",
       "    </tr>\n",
       "    <tr>\n",
       "      <th>1</th>\n",
       "      <td>2022-02-26</td>\n",
       "      <td>3</td>\n",
       "      <td>4300</td>\n",
       "      <td>about</td>\n",
       "      <td>0</td>\n",
       "    </tr>\n",
       "    <tr>\n",
       "      <th>2</th>\n",
       "      <td>2022-02-27</td>\n",
       "      <td>4</td>\n",
       "      <td>4500</td>\n",
       "      <td>about</td>\n",
       "      <td>0</td>\n",
       "    </tr>\n",
       "    <tr>\n",
       "      <th>3</th>\n",
       "      <td>2022-02-28</td>\n",
       "      <td>5</td>\n",
       "      <td>5300</td>\n",
       "      <td>about</td>\n",
       "      <td>0</td>\n",
       "    </tr>\n",
       "    <tr>\n",
       "      <th>4</th>\n",
       "      <td>2022-03-01</td>\n",
       "      <td>6</td>\n",
       "      <td>5710</td>\n",
       "      <td>about</td>\n",
       "      <td>200</td>\n",
       "    </tr>\n",
       "  </tbody>\n",
       "</table>\n",
       "</div>"
      ],
      "text/plain": [
       "         date  day  personnel personnel*  POW\n",
       "0  2022-02-25    2       2800      about    0\n",
       "1  2022-02-26    3       4300      about    0\n",
       "2  2022-02-27    4       4500      about    0\n",
       "3  2022-02-28    5       5300      about    0\n",
       "4  2022-03-01    6       5710      about  200"
      ]
     },
     "execution_count": 14,
     "metadata": {},
     "output_type": "execute_result"
    }
   ],
   "source": [
    "#OorlogPersonen = pd.read_pickle(\"OorlogPersonen.pkl\")\n",
    "op = pd.read_csv('Oorlog_personeel.csv')\n",
    "op.head()"
   ]
  },
  {
   "cell_type": "code",
   "execution_count": 15,
   "id": "bce217af",
   "metadata": {},
   "outputs": [
    {
     "data": {
      "text/html": [
       "<div>\n",
       "<style scoped>\n",
       "    .dataframe tbody tr th:only-of-type {\n",
       "        vertical-align: middle;\n",
       "    }\n",
       "\n",
       "    .dataframe tbody tr th {\n",
       "        vertical-align: top;\n",
       "    }\n",
       "\n",
       "    .dataframe thead th {\n",
       "        text-align: right;\n",
       "    }\n",
       "</style>\n",
       "<table border=\"1\" class=\"dataframe\">\n",
       "  <thead>\n",
       "    <tr style=\"text-align: right;\">\n",
       "      <th></th>\n",
       "      <th>date</th>\n",
       "      <th>day</th>\n",
       "      <th>aircraft</th>\n",
       "      <th>helicopter</th>\n",
       "      <th>tank</th>\n",
       "      <th>APC</th>\n",
       "      <th>field artillery</th>\n",
       "      <th>MRL</th>\n",
       "      <th>military auto</th>\n",
       "      <th>fuel tank</th>\n",
       "      <th>drone</th>\n",
       "      <th>naval ship</th>\n",
       "      <th>anti-aircraft warfare</th>\n",
       "      <th>special equipment</th>\n",
       "      <th>mobile SRBM system</th>\n",
       "    </tr>\n",
       "  </thead>\n",
       "  <tbody>\n",
       "    <tr>\n",
       "      <th>0</th>\n",
       "      <td>2022-02-25</td>\n",
       "      <td>2</td>\n",
       "      <td>10</td>\n",
       "      <td>7</td>\n",
       "      <td>80</td>\n",
       "      <td>516</td>\n",
       "      <td>49</td>\n",
       "      <td>4</td>\n",
       "      <td>100</td>\n",
       "      <td>60</td>\n",
       "      <td>0</td>\n",
       "      <td>2</td>\n",
       "      <td>0</td>\n",
       "      <td>NaN</td>\n",
       "      <td>NaN</td>\n",
       "    </tr>\n",
       "    <tr>\n",
       "      <th>1</th>\n",
       "      <td>2022-02-26</td>\n",
       "      <td>3</td>\n",
       "      <td>27</td>\n",
       "      <td>26</td>\n",
       "      <td>146</td>\n",
       "      <td>706</td>\n",
       "      <td>49</td>\n",
       "      <td>4</td>\n",
       "      <td>130</td>\n",
       "      <td>60</td>\n",
       "      <td>2</td>\n",
       "      <td>2</td>\n",
       "      <td>0</td>\n",
       "      <td>NaN</td>\n",
       "      <td>NaN</td>\n",
       "    </tr>\n",
       "    <tr>\n",
       "      <th>2</th>\n",
       "      <td>2022-02-27</td>\n",
       "      <td>4</td>\n",
       "      <td>27</td>\n",
       "      <td>26</td>\n",
       "      <td>150</td>\n",
       "      <td>706</td>\n",
       "      <td>50</td>\n",
       "      <td>4</td>\n",
       "      <td>130</td>\n",
       "      <td>60</td>\n",
       "      <td>2</td>\n",
       "      <td>2</td>\n",
       "      <td>0</td>\n",
       "      <td>NaN</td>\n",
       "      <td>NaN</td>\n",
       "    </tr>\n",
       "    <tr>\n",
       "      <th>3</th>\n",
       "      <td>2022-02-28</td>\n",
       "      <td>5</td>\n",
       "      <td>29</td>\n",
       "      <td>29</td>\n",
       "      <td>150</td>\n",
       "      <td>816</td>\n",
       "      <td>74</td>\n",
       "      <td>21</td>\n",
       "      <td>291</td>\n",
       "      <td>60</td>\n",
       "      <td>3</td>\n",
       "      <td>2</td>\n",
       "      <td>5</td>\n",
       "      <td>NaN</td>\n",
       "      <td>NaN</td>\n",
       "    </tr>\n",
       "    <tr>\n",
       "      <th>4</th>\n",
       "      <td>2022-03-01</td>\n",
       "      <td>6</td>\n",
       "      <td>29</td>\n",
       "      <td>29</td>\n",
       "      <td>198</td>\n",
       "      <td>846</td>\n",
       "      <td>77</td>\n",
       "      <td>24</td>\n",
       "      <td>305</td>\n",
       "      <td>60</td>\n",
       "      <td>3</td>\n",
       "      <td>2</td>\n",
       "      <td>7</td>\n",
       "      <td>NaN</td>\n",
       "      <td>NaN</td>\n",
       "    </tr>\n",
       "  </tbody>\n",
       "</table>\n",
       "</div>"
      ],
      "text/plain": [
       "         date  day  aircraft  helicopter  tank  APC  field artillery  MRL  \\\n",
       "0  2022-02-25    2        10           7    80  516               49    4   \n",
       "1  2022-02-26    3        27          26   146  706               49    4   \n",
       "2  2022-02-27    4        27          26   150  706               50    4   \n",
       "3  2022-02-28    5        29          29   150  816               74   21   \n",
       "4  2022-03-01    6        29          29   198  846               77   24   \n",
       "\n",
       "   military auto  fuel tank  drone  naval ship  anti-aircraft warfare  \\\n",
       "0            100         60      0           2                      0   \n",
       "1            130         60      2           2                      0   \n",
       "2            130         60      2           2                      0   \n",
       "3            291         60      3           2                      5   \n",
       "4            305         60      3           2                      7   \n",
       "\n",
       "   special equipment  mobile SRBM system  \n",
       "0                NaN                 NaN  \n",
       "1                NaN                 NaN  \n",
       "2                NaN                 NaN  \n",
       "3                NaN                 NaN  \n",
       "4                NaN                 NaN  "
      ]
     },
     "execution_count": 15,
     "metadata": {},
     "output_type": "execute_result"
    }
   ],
   "source": [
    "#OorlogVoertuigen = pd.read_pickle(\"OorlogVoertuigen.pkl\")\n",
    "ov = pd.read_excel('Oorlog_voertuigen.xlsx')\n",
    "ov.head()"
   ]
  },
  {
   "cell_type": "markdown",
   "id": "9cae4bd6",
   "metadata": {},
   "source": [
    "b. Inspecteer de dataframe OorlogVoertuigen op NA-waardes (2pt)"
   ]
  },
  {
   "cell_type": "code",
   "execution_count": 16,
   "id": "2196684b",
   "metadata": {},
   "outputs": [
    {
     "data": {
      "text/plain": [
       "date                      0\n",
       "day                       0\n",
       "aircraft                  0\n",
       "helicopter                0\n",
       "tank                      0\n",
       "APC                       0\n",
       "field artillery           0\n",
       "MRL                       0\n",
       "military auto             0\n",
       "fuel tank                 0\n",
       "drone                     0\n",
       "naval ship                0\n",
       "anti-aircraft warfare     0\n",
       "special equipment        19\n",
       "mobile SRBM system       29\n",
       "dtype: int64"
      ]
     },
     "execution_count": 16,
     "metadata": {},
     "output_type": "execute_result"
    }
   ],
   "source": [
    "ov.isna().sum()"
   ]
  },
  {
   "cell_type": "markdown",
   "id": "340b7329",
   "metadata": {},
   "source": [
    "c. Inspecteer de kolommen met NA-waardes verder. Vul de NA-waardes met een logische waarde. (2pt) Beargumenteer waarom dit een logische waarde is (2pt)"
   ]
  },
  {
   "cell_type": "code",
   "execution_count": 20,
   "id": "69d254ce",
   "metadata": {},
   "outputs": [],
   "source": [
    "ov = ov.fillna(0)"
   ]
  },
  {
   "cell_type": "markdown",
   "id": "4ed05d51",
   "metadata": {},
   "source": [
    "Argument: "
   ]
  },
  {
   "cell_type": "markdown",
   "id": "d5274705",
   "metadata": {},
   "source": []
  },
  {
   "cell_type": "markdown",
   "id": "b84683ed",
   "metadata": {},
   "source": [
    "d. Vanaf nu gebruiken we de dataframe OorlogPersonen. Zet de kolom date om naar een datetime format (3pt)"
   ]
  },
  {
   "cell_type": "code",
   "execution_count": 26,
   "id": "9bf2cd56",
   "metadata": {},
   "outputs": [],
   "source": [
    "op[\"date\"] = pd.to_datetime(op[\"date\"])"
   ]
  },
  {
   "cell_type": "markdown",
   "id": "f85897ad",
   "metadata": {},
   "source": [
    "e. Maak een nieuwe kolom week, die het weeknummer bevat (2pt) <br> Antwoord kan een Future warning geven, mag je negeren"
   ]
  },
  {
   "cell_type": "code",
   "execution_count": 29,
   "id": "004b64ed",
   "metadata": {},
   "outputs": [
    {
     "name": "stderr",
     "output_type": "stream",
     "text": [
      "C:\\Users\\ljc_c\\AppData\\Local\\Temp\\ipykernel_12972\\187277608.py:2: FutureWarning: Series.dt.weekofyear and Series.dt.week have been deprecated. Please use Series.dt.isocalendar().week instead.\n",
      "  op['week'] = op['date'].dt.week\n"
     ]
    }
   ],
   "source": [
    "#OorlogPersonenDateTime = pd.read_pickle(\"OorlogPersonenDateTime.pkl\")\n",
    "op['week'] = op['date'].dt.week "
   ]
  },
  {
   "cell_type": "markdown",
   "id": "caf96c4c",
   "metadata": {},
   "source": [
    "f. Bereken het aantal gesneuvelde aantal soldaten per dag (Kolom personnel) (Gegevens zijn cumulatief) (2pt) <br> Vul de eerste rij met 0 (1pt)"
   ]
  },
  {
   "cell_type": "code",
   "execution_count": 38,
   "id": "7d172df0",
   "metadata": {},
   "outputs": [
    {
     "data": {
      "text/html": [
       "<div>\n",
       "<style scoped>\n",
       "    .dataframe tbody tr th:only-of-type {\n",
       "        vertical-align: middle;\n",
       "    }\n",
       "\n",
       "    .dataframe tbody tr th {\n",
       "        vertical-align: top;\n",
       "    }\n",
       "\n",
       "    .dataframe thead th {\n",
       "        text-align: right;\n",
       "    }\n",
       "</style>\n",
       "<table border=\"1\" class=\"dataframe\">\n",
       "  <thead>\n",
       "    <tr style=\"text-align: right;\">\n",
       "      <th></th>\n",
       "      <th>date</th>\n",
       "      <th>day</th>\n",
       "      <th>personnel</th>\n",
       "      <th>personnel*</th>\n",
       "      <th>POW</th>\n",
       "      <th>week</th>\n",
       "      <th>gpd</th>\n",
       "    </tr>\n",
       "  </thead>\n",
       "  <tbody>\n",
       "    <tr>\n",
       "      <th>0</th>\n",
       "      <td>2022-02-25</td>\n",
       "      <td>2</td>\n",
       "      <td>2800</td>\n",
       "      <td>about</td>\n",
       "      <td>0</td>\n",
       "      <td>8</td>\n",
       "      <td>0.0</td>\n",
       "    </tr>\n",
       "    <tr>\n",
       "      <th>1</th>\n",
       "      <td>2022-02-26</td>\n",
       "      <td>3</td>\n",
       "      <td>4300</td>\n",
       "      <td>about</td>\n",
       "      <td>0</td>\n",
       "      <td>8</td>\n",
       "      <td>1500.0</td>\n",
       "    </tr>\n",
       "    <tr>\n",
       "      <th>2</th>\n",
       "      <td>2022-02-27</td>\n",
       "      <td>4</td>\n",
       "      <td>4500</td>\n",
       "      <td>about</td>\n",
       "      <td>0</td>\n",
       "      <td>8</td>\n",
       "      <td>200.0</td>\n",
       "    </tr>\n",
       "    <tr>\n",
       "      <th>3</th>\n",
       "      <td>2022-02-28</td>\n",
       "      <td>5</td>\n",
       "      <td>5300</td>\n",
       "      <td>about</td>\n",
       "      <td>0</td>\n",
       "      <td>9</td>\n",
       "      <td>800.0</td>\n",
       "    </tr>\n",
       "    <tr>\n",
       "      <th>4</th>\n",
       "      <td>2022-03-01</td>\n",
       "      <td>6</td>\n",
       "      <td>5710</td>\n",
       "      <td>about</td>\n",
       "      <td>200</td>\n",
       "      <td>9</td>\n",
       "      <td>410.0</td>\n",
       "    </tr>\n",
       "  </tbody>\n",
       "</table>\n",
       "</div>"
      ],
      "text/plain": [
       "        date  day  personnel personnel*  POW  week     gpd\n",
       "0 2022-02-25    2       2800      about    0     8     0.0\n",
       "1 2022-02-26    3       4300      about    0     8  1500.0\n",
       "2 2022-02-27    4       4500      about    0     8   200.0\n",
       "3 2022-02-28    5       5300      about    0     9   800.0\n",
       "4 2022-03-01    6       5710      about  200     9   410.0"
      ]
     },
     "execution_count": 38,
     "metadata": {},
     "output_type": "execute_result"
    }
   ],
   "source": [
    "#OorlogPersonenWeek = pd.read_pickle(\"OorlogPersonenWeek.pkl\")\n",
    "op['gpd'] = op['personnel'].diff().fillna(0)\n",
    "op.head()"
   ]
  },
  {
   "cell_type": "markdown",
   "id": "dc00dbb6",
   "metadata": {},
   "source": [
    "g. Bereken het aantal gesneuvelde soldaten per weeknummer (4pt)"
   ]
  },
  {
   "cell_type": "code",
   "execution_count": 41,
   "id": "e2f85d75",
   "metadata": {},
   "outputs": [
    {
     "data": {
      "text/plain": [
       "week\n",
       "8     1700.0\n",
       "9     6500.0\n",
       "10    1000.0\n",
       "11    2700.0\n",
       "12    1900.0\n",
       "13    1400.0\n",
       "Name: gpd, dtype: float64"
      ]
     },
     "execution_count": 41,
     "metadata": {},
     "output_type": "execute_result"
    }
   ],
   "source": [
    "#OorlogPersonenDag = pd.read_pickle(\"OorlogPersonenDag.pkl\")\n",
    "op.groupby('week')['gpd'].sum()"
   ]
  },
  {
   "cell_type": "markdown",
   "id": "5d59b7e9",
   "metadata": {},
   "source": [
    "**3. Corona. De maatregelen zijn opgeheven (maar is de pandemie voorbij?). Laten we een terugblik doen aan de hand van de data. De dataset bevat per land/regio het aantal cases, opnames etc. per dag.**"
   ]
  },
  {
   "cell_type": "markdown",
   "id": "79e9a968",
   "metadata": {},
   "source": [
    "Laad de data in met onderstaande code"
   ]
  },
  {
   "cell_type": "code",
   "execution_count": 42,
   "id": "584bd09b",
   "metadata": {},
   "outputs": [
    {
     "data": {
      "text/html": [
       "<div>\n",
       "<style scoped>\n",
       "    .dataframe tbody tr th:only-of-type {\n",
       "        vertical-align: middle;\n",
       "    }\n",
       "\n",
       "    .dataframe tbody tr th {\n",
       "        vertical-align: top;\n",
       "    }\n",
       "\n",
       "    .dataframe thead th {\n",
       "        text-align: right;\n",
       "    }\n",
       "</style>\n",
       "<table border=\"1\" class=\"dataframe\">\n",
       "  <thead>\n",
       "    <tr style=\"text-align: right;\">\n",
       "      <th></th>\n",
       "      <th>iso_code</th>\n",
       "      <th>continent</th>\n",
       "      <th>location</th>\n",
       "      <th>date</th>\n",
       "      <th>total_cases</th>\n",
       "      <th>new_cases</th>\n",
       "      <th>new_cases_smoothed</th>\n",
       "      <th>total_deaths</th>\n",
       "      <th>new_deaths</th>\n",
       "      <th>new_deaths_smoothed</th>\n",
       "      <th>...</th>\n",
       "      <th>female_smokers</th>\n",
       "      <th>male_smokers</th>\n",
       "      <th>handwashing_facilities</th>\n",
       "      <th>hospital_beds_per_thousand</th>\n",
       "      <th>life_expectancy</th>\n",
       "      <th>human_development_index</th>\n",
       "      <th>excess_mortality_cumulative_absolute</th>\n",
       "      <th>excess_mortality_cumulative</th>\n",
       "      <th>excess_mortality</th>\n",
       "      <th>excess_mortality_cumulative_per_million</th>\n",
       "    </tr>\n",
       "  </thead>\n",
       "  <tbody>\n",
       "    <tr>\n",
       "      <th>0</th>\n",
       "      <td>AFG</td>\n",
       "      <td>Asia</td>\n",
       "      <td>Afghanistan</td>\n",
       "      <td>2020-02-24</td>\n",
       "      <td>5.0</td>\n",
       "      <td>5.0</td>\n",
       "      <td>NaN</td>\n",
       "      <td>NaN</td>\n",
       "      <td>NaN</td>\n",
       "      <td>NaN</td>\n",
       "      <td>...</td>\n",
       "      <td>NaN</td>\n",
       "      <td>NaN</td>\n",
       "      <td>37.746</td>\n",
       "      <td>0.5</td>\n",
       "      <td>64.83</td>\n",
       "      <td>0.511</td>\n",
       "      <td>NaN</td>\n",
       "      <td>NaN</td>\n",
       "      <td>NaN</td>\n",
       "      <td>NaN</td>\n",
       "    </tr>\n",
       "    <tr>\n",
       "      <th>1</th>\n",
       "      <td>AFG</td>\n",
       "      <td>Asia</td>\n",
       "      <td>Afghanistan</td>\n",
       "      <td>2020-02-25</td>\n",
       "      <td>5.0</td>\n",
       "      <td>0.0</td>\n",
       "      <td>NaN</td>\n",
       "      <td>NaN</td>\n",
       "      <td>NaN</td>\n",
       "      <td>NaN</td>\n",
       "      <td>...</td>\n",
       "      <td>NaN</td>\n",
       "      <td>NaN</td>\n",
       "      <td>37.746</td>\n",
       "      <td>0.5</td>\n",
       "      <td>64.83</td>\n",
       "      <td>0.511</td>\n",
       "      <td>NaN</td>\n",
       "      <td>NaN</td>\n",
       "      <td>NaN</td>\n",
       "      <td>NaN</td>\n",
       "    </tr>\n",
       "    <tr>\n",
       "      <th>2</th>\n",
       "      <td>AFG</td>\n",
       "      <td>Asia</td>\n",
       "      <td>Afghanistan</td>\n",
       "      <td>2020-02-26</td>\n",
       "      <td>5.0</td>\n",
       "      <td>0.0</td>\n",
       "      <td>NaN</td>\n",
       "      <td>NaN</td>\n",
       "      <td>NaN</td>\n",
       "      <td>NaN</td>\n",
       "      <td>...</td>\n",
       "      <td>NaN</td>\n",
       "      <td>NaN</td>\n",
       "      <td>37.746</td>\n",
       "      <td>0.5</td>\n",
       "      <td>64.83</td>\n",
       "      <td>0.511</td>\n",
       "      <td>NaN</td>\n",
       "      <td>NaN</td>\n",
       "      <td>NaN</td>\n",
       "      <td>NaN</td>\n",
       "    </tr>\n",
       "    <tr>\n",
       "      <th>3</th>\n",
       "      <td>AFG</td>\n",
       "      <td>Asia</td>\n",
       "      <td>Afghanistan</td>\n",
       "      <td>2020-02-27</td>\n",
       "      <td>5.0</td>\n",
       "      <td>0.0</td>\n",
       "      <td>NaN</td>\n",
       "      <td>NaN</td>\n",
       "      <td>NaN</td>\n",
       "      <td>NaN</td>\n",
       "      <td>...</td>\n",
       "      <td>NaN</td>\n",
       "      <td>NaN</td>\n",
       "      <td>37.746</td>\n",
       "      <td>0.5</td>\n",
       "      <td>64.83</td>\n",
       "      <td>0.511</td>\n",
       "      <td>NaN</td>\n",
       "      <td>NaN</td>\n",
       "      <td>NaN</td>\n",
       "      <td>NaN</td>\n",
       "    </tr>\n",
       "    <tr>\n",
       "      <th>4</th>\n",
       "      <td>AFG</td>\n",
       "      <td>Asia</td>\n",
       "      <td>Afghanistan</td>\n",
       "      <td>2020-02-28</td>\n",
       "      <td>5.0</td>\n",
       "      <td>0.0</td>\n",
       "      <td>NaN</td>\n",
       "      <td>NaN</td>\n",
       "      <td>NaN</td>\n",
       "      <td>NaN</td>\n",
       "      <td>...</td>\n",
       "      <td>NaN</td>\n",
       "      <td>NaN</td>\n",
       "      <td>37.746</td>\n",
       "      <td>0.5</td>\n",
       "      <td>64.83</td>\n",
       "      <td>0.511</td>\n",
       "      <td>NaN</td>\n",
       "      <td>NaN</td>\n",
       "      <td>NaN</td>\n",
       "      <td>NaN</td>\n",
       "    </tr>\n",
       "  </tbody>\n",
       "</table>\n",
       "<p>5 rows × 67 columns</p>\n",
       "</div>"
      ],
      "text/plain": [
       "  iso_code continent     location        date  total_cases  new_cases  \\\n",
       "0      AFG      Asia  Afghanistan  2020-02-24          5.0        5.0   \n",
       "1      AFG      Asia  Afghanistan  2020-02-25          5.0        0.0   \n",
       "2      AFG      Asia  Afghanistan  2020-02-26          5.0        0.0   \n",
       "3      AFG      Asia  Afghanistan  2020-02-27          5.0        0.0   \n",
       "4      AFG      Asia  Afghanistan  2020-02-28          5.0        0.0   \n",
       "\n",
       "   new_cases_smoothed  total_deaths  new_deaths  new_deaths_smoothed  ...  \\\n",
       "0                 NaN           NaN         NaN                  NaN  ...   \n",
       "1                 NaN           NaN         NaN                  NaN  ...   \n",
       "2                 NaN           NaN         NaN                  NaN  ...   \n",
       "3                 NaN           NaN         NaN                  NaN  ...   \n",
       "4                 NaN           NaN         NaN                  NaN  ...   \n",
       "\n",
       "   female_smokers  male_smokers  handwashing_facilities  \\\n",
       "0             NaN           NaN                  37.746   \n",
       "1             NaN           NaN                  37.746   \n",
       "2             NaN           NaN                  37.746   \n",
       "3             NaN           NaN                  37.746   \n",
       "4             NaN           NaN                  37.746   \n",
       "\n",
       "   hospital_beds_per_thousand  life_expectancy  human_development_index  \\\n",
       "0                         0.5            64.83                    0.511   \n",
       "1                         0.5            64.83                    0.511   \n",
       "2                         0.5            64.83                    0.511   \n",
       "3                         0.5            64.83                    0.511   \n",
       "4                         0.5            64.83                    0.511   \n",
       "\n",
       "   excess_mortality_cumulative_absolute  excess_mortality_cumulative  \\\n",
       "0                                   NaN                          NaN   \n",
       "1                                   NaN                          NaN   \n",
       "2                                   NaN                          NaN   \n",
       "3                                   NaN                          NaN   \n",
       "4                                   NaN                          NaN   \n",
       "\n",
       "   excess_mortality  excess_mortality_cumulative_per_million  \n",
       "0               NaN                                      NaN  \n",
       "1               NaN                                      NaN  \n",
       "2               NaN                                      NaN  \n",
       "3               NaN                                      NaN  \n",
       "4               NaN                                      NaN  \n",
       "\n",
       "[5 rows x 67 columns]"
      ]
     },
     "execution_count": 42,
     "metadata": {},
     "output_type": "execute_result"
    }
   ],
   "source": [
    "Corona = pd.read_pickle(\"Corona.pkl\")\n",
    "Corona.head()"
   ]
  },
  {
   "cell_type": "markdown",
   "id": "3165dd73",
   "metadata": {},
   "source": [
    "a. Selecteer alleen de data van Nederland (kolom location - \"Netherlands\") (2pt)"
   ]
  },
  {
   "cell_type": "code",
   "execution_count": 49,
   "id": "cffc8b0d",
   "metadata": {},
   "outputs": [
    {
     "data": {
      "text/html": [
       "<div>\n",
       "<style scoped>\n",
       "    .dataframe tbody tr th:only-of-type {\n",
       "        vertical-align: middle;\n",
       "    }\n",
       "\n",
       "    .dataframe tbody tr th {\n",
       "        vertical-align: top;\n",
       "    }\n",
       "\n",
       "    .dataframe thead th {\n",
       "        text-align: right;\n",
       "    }\n",
       "</style>\n",
       "<table border=\"1\" class=\"dataframe\">\n",
       "  <thead>\n",
       "    <tr style=\"text-align: right;\">\n",
       "      <th></th>\n",
       "      <th>iso_code</th>\n",
       "      <th>continent</th>\n",
       "      <th>location</th>\n",
       "      <th>date</th>\n",
       "      <th>total_cases</th>\n",
       "      <th>new_cases</th>\n",
       "      <th>new_cases_smoothed</th>\n",
       "      <th>total_deaths</th>\n",
       "      <th>new_deaths</th>\n",
       "      <th>new_deaths_smoothed</th>\n",
       "      <th>...</th>\n",
       "      <th>female_smokers</th>\n",
       "      <th>male_smokers</th>\n",
       "      <th>handwashing_facilities</th>\n",
       "      <th>hospital_beds_per_thousand</th>\n",
       "      <th>life_expectancy</th>\n",
       "      <th>human_development_index</th>\n",
       "      <th>excess_mortality_cumulative_absolute</th>\n",
       "      <th>excess_mortality_cumulative</th>\n",
       "      <th>excess_mortality</th>\n",
       "      <th>excess_mortality_cumulative_per_million</th>\n",
       "    </tr>\n",
       "  </thead>\n",
       "  <tbody>\n",
       "    <tr>\n",
       "      <th>112057</th>\n",
       "      <td>NLD</td>\n",
       "      <td>Europe</td>\n",
       "      <td>Netherlands</td>\n",
       "      <td>2020-02-27</td>\n",
       "      <td>1.0</td>\n",
       "      <td>1.0</td>\n",
       "      <td>NaN</td>\n",
       "      <td>NaN</td>\n",
       "      <td>NaN</td>\n",
       "      <td>NaN</td>\n",
       "      <td>...</td>\n",
       "      <td>24.4</td>\n",
       "      <td>27.3</td>\n",
       "      <td>NaN</td>\n",
       "      <td>3.32</td>\n",
       "      <td>82.28</td>\n",
       "      <td>0.944</td>\n",
       "      <td>NaN</td>\n",
       "      <td>NaN</td>\n",
       "      <td>NaN</td>\n",
       "      <td>NaN</td>\n",
       "    </tr>\n",
       "    <tr>\n",
       "      <th>112058</th>\n",
       "      <td>NLD</td>\n",
       "      <td>Europe</td>\n",
       "      <td>Netherlands</td>\n",
       "      <td>2020-02-28</td>\n",
       "      <td>6.0</td>\n",
       "      <td>5.0</td>\n",
       "      <td>NaN</td>\n",
       "      <td>NaN</td>\n",
       "      <td>NaN</td>\n",
       "      <td>NaN</td>\n",
       "      <td>...</td>\n",
       "      <td>24.4</td>\n",
       "      <td>27.3</td>\n",
       "      <td>NaN</td>\n",
       "      <td>3.32</td>\n",
       "      <td>82.28</td>\n",
       "      <td>0.944</td>\n",
       "      <td>NaN</td>\n",
       "      <td>NaN</td>\n",
       "      <td>NaN</td>\n",
       "      <td>NaN</td>\n",
       "    </tr>\n",
       "    <tr>\n",
       "      <th>112059</th>\n",
       "      <td>NLD</td>\n",
       "      <td>Europe</td>\n",
       "      <td>Netherlands</td>\n",
       "      <td>2020-02-29</td>\n",
       "      <td>10.0</td>\n",
       "      <td>4.0</td>\n",
       "      <td>NaN</td>\n",
       "      <td>NaN</td>\n",
       "      <td>NaN</td>\n",
       "      <td>NaN</td>\n",
       "      <td>...</td>\n",
       "      <td>24.4</td>\n",
       "      <td>27.3</td>\n",
       "      <td>NaN</td>\n",
       "      <td>3.32</td>\n",
       "      <td>82.28</td>\n",
       "      <td>0.944</td>\n",
       "      <td>NaN</td>\n",
       "      <td>NaN</td>\n",
       "      <td>NaN</td>\n",
       "      <td>NaN</td>\n",
       "    </tr>\n",
       "    <tr>\n",
       "      <th>112060</th>\n",
       "      <td>NLD</td>\n",
       "      <td>Europe</td>\n",
       "      <td>Netherlands</td>\n",
       "      <td>2020-03-01</td>\n",
       "      <td>18.0</td>\n",
       "      <td>8.0</td>\n",
       "      <td>NaN</td>\n",
       "      <td>NaN</td>\n",
       "      <td>NaN</td>\n",
       "      <td>NaN</td>\n",
       "      <td>...</td>\n",
       "      <td>24.4</td>\n",
       "      <td>27.3</td>\n",
       "      <td>NaN</td>\n",
       "      <td>3.32</td>\n",
       "      <td>82.28</td>\n",
       "      <td>0.944</td>\n",
       "      <td>-2332.1</td>\n",
       "      <td>-7.62</td>\n",
       "      <td>-8.61</td>\n",
       "      <td>-135.799641</td>\n",
       "    </tr>\n",
       "    <tr>\n",
       "      <th>112061</th>\n",
       "      <td>NLD</td>\n",
       "      <td>Europe</td>\n",
       "      <td>Netherlands</td>\n",
       "      <td>2020-03-02</td>\n",
       "      <td>24.0</td>\n",
       "      <td>6.0</td>\n",
       "      <td>NaN</td>\n",
       "      <td>NaN</td>\n",
       "      <td>NaN</td>\n",
       "      <td>NaN</td>\n",
       "      <td>...</td>\n",
       "      <td>24.4</td>\n",
       "      <td>27.3</td>\n",
       "      <td>NaN</td>\n",
       "      <td>3.32</td>\n",
       "      <td>82.28</td>\n",
       "      <td>0.944</td>\n",
       "      <td>NaN</td>\n",
       "      <td>NaN</td>\n",
       "      <td>NaN</td>\n",
       "      <td>NaN</td>\n",
       "    </tr>\n",
       "    <tr>\n",
       "      <th>...</th>\n",
       "      <td>...</td>\n",
       "      <td>...</td>\n",
       "      <td>...</td>\n",
       "      <td>...</td>\n",
       "      <td>...</td>\n",
       "      <td>...</td>\n",
       "      <td>...</td>\n",
       "      <td>...</td>\n",
       "      <td>...</td>\n",
       "      <td>...</td>\n",
       "      <td>...</td>\n",
       "      <td>...</td>\n",
       "      <td>...</td>\n",
       "      <td>...</td>\n",
       "      <td>...</td>\n",
       "      <td>...</td>\n",
       "      <td>...</td>\n",
       "      <td>...</td>\n",
       "      <td>...</td>\n",
       "      <td>...</td>\n",
       "      <td>...</td>\n",
       "    </tr>\n",
       "    <tr>\n",
       "      <th>112819</th>\n",
       "      <td>NLD</td>\n",
       "      <td>Europe</td>\n",
       "      <td>Netherlands</td>\n",
       "      <td>2022-03-30</td>\n",
       "      <td>7927676.0</td>\n",
       "      <td>27783.0</td>\n",
       "      <td>29607.286</td>\n",
       "      <td>22068.0</td>\n",
       "      <td>37.0</td>\n",
       "      <td>17.857</td>\n",
       "      <td>...</td>\n",
       "      <td>24.4</td>\n",
       "      <td>27.3</td>\n",
       "      <td>NaN</td>\n",
       "      <td>3.32</td>\n",
       "      <td>82.28</td>\n",
       "      <td>0.944</td>\n",
       "      <td>NaN</td>\n",
       "      <td>NaN</td>\n",
       "      <td>NaN</td>\n",
       "      <td>NaN</td>\n",
       "    </tr>\n",
       "    <tr>\n",
       "      <th>112820</th>\n",
       "      <td>NLD</td>\n",
       "      <td>Europe</td>\n",
       "      <td>Netherlands</td>\n",
       "      <td>2022-03-31</td>\n",
       "      <td>7953120.0</td>\n",
       "      <td>25444.0</td>\n",
       "      <td>27656.714</td>\n",
       "      <td>22094.0</td>\n",
       "      <td>26.0</td>\n",
       "      <td>19.429</td>\n",
       "      <td>...</td>\n",
       "      <td>24.4</td>\n",
       "      <td>27.3</td>\n",
       "      <td>NaN</td>\n",
       "      <td>3.32</td>\n",
       "      <td>82.28</td>\n",
       "      <td>0.944</td>\n",
       "      <td>NaN</td>\n",
       "      <td>NaN</td>\n",
       "      <td>NaN</td>\n",
       "      <td>NaN</td>\n",
       "    </tr>\n",
       "    <tr>\n",
       "      <th>112821</th>\n",
       "      <td>NLD</td>\n",
       "      <td>Europe</td>\n",
       "      <td>Netherlands</td>\n",
       "      <td>2022-04-01</td>\n",
       "      <td>7974872.0</td>\n",
       "      <td>21752.0</td>\n",
       "      <td>25765.000</td>\n",
       "      <td>22100.0</td>\n",
       "      <td>6.0</td>\n",
       "      <td>17.429</td>\n",
       "      <td>...</td>\n",
       "      <td>24.4</td>\n",
       "      <td>27.3</td>\n",
       "      <td>NaN</td>\n",
       "      <td>3.32</td>\n",
       "      <td>82.28</td>\n",
       "      <td>0.944</td>\n",
       "      <td>NaN</td>\n",
       "      <td>NaN</td>\n",
       "      <td>NaN</td>\n",
       "      <td>NaN</td>\n",
       "    </tr>\n",
       "    <tr>\n",
       "      <th>112822</th>\n",
       "      <td>NLD</td>\n",
       "      <td>Europe</td>\n",
       "      <td>Netherlands</td>\n",
       "      <td>2022-04-02</td>\n",
       "      <td>7991823.0</td>\n",
       "      <td>16951.0</td>\n",
       "      <td>24166.000</td>\n",
       "      <td>22114.0</td>\n",
       "      <td>14.0</td>\n",
       "      <td>16.571</td>\n",
       "      <td>...</td>\n",
       "      <td>24.4</td>\n",
       "      <td>27.3</td>\n",
       "      <td>NaN</td>\n",
       "      <td>3.32</td>\n",
       "      <td>82.28</td>\n",
       "      <td>0.944</td>\n",
       "      <td>NaN</td>\n",
       "      <td>NaN</td>\n",
       "      <td>NaN</td>\n",
       "      <td>NaN</td>\n",
       "    </tr>\n",
       "    <tr>\n",
       "      <th>112823</th>\n",
       "      <td>NLD</td>\n",
       "      <td>Europe</td>\n",
       "      <td>Netherlands</td>\n",
       "      <td>2022-04-03</td>\n",
       "      <td>8004200.0</td>\n",
       "      <td>12377.0</td>\n",
       "      <td>22360.143</td>\n",
       "      <td>22120.0</td>\n",
       "      <td>6.0</td>\n",
       "      <td>16.429</td>\n",
       "      <td>...</td>\n",
       "      <td>24.4</td>\n",
       "      <td>27.3</td>\n",
       "      <td>NaN</td>\n",
       "      <td>3.32</td>\n",
       "      <td>82.28</td>\n",
       "      <td>0.944</td>\n",
       "      <td>NaN</td>\n",
       "      <td>NaN</td>\n",
       "      <td>NaN</td>\n",
       "      <td>NaN</td>\n",
       "    </tr>\n",
       "  </tbody>\n",
       "</table>\n",
       "<p>767 rows × 67 columns</p>\n",
       "</div>"
      ],
      "text/plain": [
       "       iso_code continent     location        date  total_cases  new_cases  \\\n",
       "112057      NLD    Europe  Netherlands  2020-02-27          1.0        1.0   \n",
       "112058      NLD    Europe  Netherlands  2020-02-28          6.0        5.0   \n",
       "112059      NLD    Europe  Netherlands  2020-02-29         10.0        4.0   \n",
       "112060      NLD    Europe  Netherlands  2020-03-01         18.0        8.0   \n",
       "112061      NLD    Europe  Netherlands  2020-03-02         24.0        6.0   \n",
       "...         ...       ...          ...         ...          ...        ...   \n",
       "112819      NLD    Europe  Netherlands  2022-03-30    7927676.0    27783.0   \n",
       "112820      NLD    Europe  Netherlands  2022-03-31    7953120.0    25444.0   \n",
       "112821      NLD    Europe  Netherlands  2022-04-01    7974872.0    21752.0   \n",
       "112822      NLD    Europe  Netherlands  2022-04-02    7991823.0    16951.0   \n",
       "112823      NLD    Europe  Netherlands  2022-04-03    8004200.0    12377.0   \n",
       "\n",
       "        new_cases_smoothed  total_deaths  new_deaths  new_deaths_smoothed  \\\n",
       "112057                 NaN           NaN         NaN                  NaN   \n",
       "112058                 NaN           NaN         NaN                  NaN   \n",
       "112059                 NaN           NaN         NaN                  NaN   \n",
       "112060                 NaN           NaN         NaN                  NaN   \n",
       "112061                 NaN           NaN         NaN                  NaN   \n",
       "...                    ...           ...         ...                  ...   \n",
       "112819           29607.286       22068.0        37.0               17.857   \n",
       "112820           27656.714       22094.0        26.0               19.429   \n",
       "112821           25765.000       22100.0         6.0               17.429   \n",
       "112822           24166.000       22114.0        14.0               16.571   \n",
       "112823           22360.143       22120.0         6.0               16.429   \n",
       "\n",
       "        ...  female_smokers  male_smokers  handwashing_facilities  \\\n",
       "112057  ...            24.4          27.3                     NaN   \n",
       "112058  ...            24.4          27.3                     NaN   \n",
       "112059  ...            24.4          27.3                     NaN   \n",
       "112060  ...            24.4          27.3                     NaN   \n",
       "112061  ...            24.4          27.3                     NaN   \n",
       "...     ...             ...           ...                     ...   \n",
       "112819  ...            24.4          27.3                     NaN   \n",
       "112820  ...            24.4          27.3                     NaN   \n",
       "112821  ...            24.4          27.3                     NaN   \n",
       "112822  ...            24.4          27.3                     NaN   \n",
       "112823  ...            24.4          27.3                     NaN   \n",
       "\n",
       "        hospital_beds_per_thousand  life_expectancy  human_development_index  \\\n",
       "112057                        3.32            82.28                    0.944   \n",
       "112058                        3.32            82.28                    0.944   \n",
       "112059                        3.32            82.28                    0.944   \n",
       "112060                        3.32            82.28                    0.944   \n",
       "112061                        3.32            82.28                    0.944   \n",
       "...                            ...              ...                      ...   \n",
       "112819                        3.32            82.28                    0.944   \n",
       "112820                        3.32            82.28                    0.944   \n",
       "112821                        3.32            82.28                    0.944   \n",
       "112822                        3.32            82.28                    0.944   \n",
       "112823                        3.32            82.28                    0.944   \n",
       "\n",
       "        excess_mortality_cumulative_absolute  excess_mortality_cumulative  \\\n",
       "112057                                   NaN                          NaN   \n",
       "112058                                   NaN                          NaN   \n",
       "112059                                   NaN                          NaN   \n",
       "112060                               -2332.1                        -7.62   \n",
       "112061                                   NaN                          NaN   \n",
       "...                                      ...                          ...   \n",
       "112819                                   NaN                          NaN   \n",
       "112820                                   NaN                          NaN   \n",
       "112821                                   NaN                          NaN   \n",
       "112822                                   NaN                          NaN   \n",
       "112823                                   NaN                          NaN   \n",
       "\n",
       "        excess_mortality  excess_mortality_cumulative_per_million  \n",
       "112057               NaN                                      NaN  \n",
       "112058               NaN                                      NaN  \n",
       "112059               NaN                                      NaN  \n",
       "112060             -8.61                              -135.799641  \n",
       "112061               NaN                                      NaN  \n",
       "...                  ...                                      ...  \n",
       "112819               NaN                                      NaN  \n",
       "112820               NaN                                      NaN  \n",
       "112821               NaN                                      NaN  \n",
       "112822               NaN                                      NaN  \n",
       "112823               NaN                                      NaN  \n",
       "\n",
       "[767 rows x 67 columns]"
      ]
     },
     "execution_count": 49,
     "metadata": {},
     "output_type": "execute_result"
    }
   ],
   "source": [
    "nl = Corona[Corona['location'] == 'Netherlands']\n",
    "nl"
   ]
  },
  {
   "cell_type": "markdown",
   "id": "f1b4a256",
   "metadata": {},
   "source": [
    "b. Inspecteer het aantal nieuwe gevallen (new_cases) op outliers. (2pt) Verwijder de rijen die als outlier gezien kunnen worden (indien noodzakelijk) (2pt)"
   ]
  },
  {
   "cell_type": "code",
   "execution_count": 47,
   "id": "9abacf08",
   "metadata": {},
   "outputs": [
    {
     "data": {
      "text/plain": [
       "<AxesSubplot:>"
      ]
     },
     "execution_count": 47,
     "metadata": {},
     "output_type": "execute_result"
    },
    {
     "data": {
      "image/png": "[encoded data removed]",
      "text/plain": [
       "<Figure size 432x288 with 1 Axes>"
      ]
     },
     "metadata": {
      "needs_background": "light"
     },
     "output_type": "display_data"
    }
   ],
   "source": [
    "#CoronaNL = pd.read_pickle(\"CoronaNL.pkl\")\n",
    "nl = nl[nl[\"new_cases\"]<300000]\n",
    "nl['new_cases'].hist()"
   ]
  },
  {
   "cell_type": "markdown",
   "id": "258a3066",
   "metadata": {},
   "source": [
    "c. Inspecteer de verhouding tussen het aantal cases (new_cases) en het aantal overledene (new_deaths) (2pt) en verwijder outliers waar nodig (2pt)"
   ]
  },
  {
   "cell_type": "code",
   "execution_count": 50,
   "id": "893c1ac6",
   "metadata": {},
   "outputs": [
    {
     "data": {
      "text/plain": [
       "<matplotlib.collections.PathCollection at 0x15b05492c10>"
      ]
     },
     "execution_count": 50,
     "metadata": {},
     "output_type": "execute_result"
    },
    {
     "data": {
      "image/png": "[encoded data removed]",
      "text/plain": [
       "<Figure size 432x288 with 1 Axes>"
      ]
     },
     "metadata": {
      "needs_background": "light"
     },
     "output_type": "display_data"
    }
   ],
   "source": [
    "plt.scatter(nl['new_cases'], nl['new_deaths'])"
   ]
  },
  {
   "cell_type": "markdown",
   "id": "eb7d38a5",
   "metadata": {},
   "source": [
    "**4. Het is bijna Pasen/Suikerfeest! Tijd voor veel chocolade uiteraard. Maar welke chocolade heeft de beste kwaliteit? Tijd voor een data science approach**"
   ]
  },
  {
   "cell_type": "markdown",
   "id": "e0e3ec95",
   "metadata": {},
   "source": [
    "a. Lees de datasets Chocolade.csv en Beans.csv in. Zorg dat ze hetzelfde format krijgen als de gegeven pickle bestanden (2pt)"
   ]
  },
  {
   "cell_type": "code",
   "execution_count": null,
   "id": "406752df",
   "metadata": {},
   "outputs": [],
   "source": [
    "#Chocolade = pd.read_pickle(\"Chocolade.pkl\")\n",
    "#Beans = pd.read_pickle(\"Beans.pkl\")\n"
   ]
  },
  {
   "cell_type": "code",
   "execution_count": null,
   "id": "22e118ff",
   "metadata": {},
   "outputs": [],
   "source": []
  },
  {
   "cell_type": "code",
   "execution_count": null,
   "id": "8363ae4f",
   "metadata": {},
   "outputs": [],
   "source": []
  },
  {
   "cell_type": "markdown",
   "id": "7c097d5b",
   "metadata": {},
   "source": [
    "b. Voeg de dataset samen zodat er per boon ook bekend is welk deze vandaan komt (4pt)"
   ]
  },
  {
   "cell_type": "code",
   "execution_count": null,
   "id": "661bc78a",
   "metadata": {},
   "outputs": [],
   "source": []
  },
  {
   "cell_type": "markdown",
   "id": "29f0175e",
   "metadata": {},
   "source": [
    "c. Bepaal uit welk land (Broad.Bean.Origin) gemiddeld gezien de chocolade komt met de hoogste rating. Sorteer de waardes van hoog naar laag (4pt)"
   ]
  },
  {
   "cell_type": "code",
   "execution_count": null,
   "id": "3f06a1cc",
   "metadata": {},
   "outputs": [],
   "source": [
    "#MergedChoc = pd.read_pickle(\"MergedChoc.pkl\")\n"
   ]
  },
  {
   "cell_type": "markdown",
   "id": "9ade91b3",
   "metadata": {},
   "source": [
    "d. Ecuador staat bekend om zijn goede chocolade. De spelling van dit land is deze dataset nogal verschillend. <br> <br> Filter de dataset op waardes van Broad.Bean.Origin op het bevatten de tekst \"Ecu\". (3pt) <br> <br>\n",
    "Zorg ervoor dat het niet uitmaakt of het met kleine of hoofdletters is geschreven (1pt) <br>\n",
    "Negeer NA-waardes (1pt)"
   ]
  },
  {
   "cell_type": "code",
   "execution_count": null,
   "id": "4b5b55d5",
   "metadata": {},
   "outputs": [],
   "source": []
  },
  {
   "cell_type": "markdown",
   "id": "c1059abc",
   "metadata": {},
   "source": [
    "e. Bepaal het aantal unieke manieren waarop Ecuador is meegenomen in de spelling (2pt) <br> Gebruik het antwoord van vraag d. of de gegeven pickle file"
   ]
  },
  {
   "cell_type": "code",
   "execution_count": null,
   "id": "9501b557",
   "metadata": {},
   "outputs": [],
   "source": [
    "#ChocEcuador = pd.read_pickle(\"ChocEcuador.pkl\")\n"
   ]
  },
  {
   "cell_type": "markdown",
   "id": "fff66a42",
   "metadata": {},
   "source": [
    "f. Selecteer alleen rijen in de dataset (ChocEcuador) waarbij de spelling voor minimaal 75% overeen komt met de correcte spelling (\"Ecuador\")(6pt)"
   ]
  },
  {
   "cell_type": "code",
   "execution_count": null,
   "id": "8a114c2a",
   "metadata": {},
   "outputs": [],
   "source": []
  }
 ],
 "metadata": {
  "kernelspec": {
   "display_name": "Python 3 (ipykernel)",
   "language": "python",
   "name": "python3"
  },
  "language_info": {
   "codemirror_mode": {
    "name": "ipython",
    "version": 3
   },
   "file_extension": ".py",
   "mimetype": "text/x-python",
   "name": "python",
   "nbconvert_exporter": "python",
   "pygments_lexer": "ipython3",
   "version": "3.9.12"
  }
 },
 "nbformat": 4,
 "nbformat_minor": 5
}
